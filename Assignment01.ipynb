{
 "cells": [
  {
   "cell_type": "markdown",
   "metadata": {},
   "source": [
    "# Question01"
   ]
  },
  {
   "cell_type": "code",
   "execution_count": 1,
   "metadata": {
    "pixiedust": {
     "displayParams": {}
    }
   },
   "outputs": [
    {
     "name": "stdout",
     "output_type": "stream",
     "text": [
      "Enter a number:\n",
      "1000\n",
      "25\n"
     ]
    }
   ],
   "source": [
    "import math\n",
    "count=0\n",
    "num = int(input(\"Enter a number:\\n\"))    # Taking input from the user...\n",
    "sq=0\n",
    "number=0\n",
    "ct=0\n",
    "\n",
    "def isPrime(n):\n",
    "    c=False\n",
    "    if n == 0 or n == 1:\n",
    "        return False\n",
    "    sq = round(math.sqrt(n))\n",
    "    for y in range(2,sq+1):\n",
    "        if n % y == 0:            # is not a prime number...\n",
    "            c = True\n",
    "            break\n",
    "    if c == False:                # is a prime number...\n",
    "            return True\n",
    "    return False\n",
    "\n",
    "def rotate(a,n):\n",
    "    return a[n:] + a[:n]\n",
    "\n",
    "for x in range(2,num):\n",
    "    if isPrime(x):\n",
    "        ct=0\n",
    "        for i in range(len(str(x))):\n",
    "            number = int(rotate(str(x),i))\n",
    "            if isPrime(number) == True:\n",
    "                ct+=1\n",
    "            elif isPrime(number) == False:\n",
    "                break\n",
    "        if ct == len(str(x)):\n",
    "            count+=1\n",
    "print(count)"
   ]
  },
  {
   "cell_type": "markdown",
   "metadata": {},
   "source": [
    "# Question02"
   ]
  },
  {
   "cell_type": "code",
   "execution_count": 2,
   "metadata": {},
   "outputs": [
    {
     "name": "stdout",
     "output_type": "stream",
     "text": [
      "Enter a range: \n",
      "100000\n",
      "49999\n"
     ]
    }
   ],
   "source": [
    "num2= int(input(\"Enter a range: \\n\"))            # Incomplete\n",
    "Sum=0\n",
    "for x in range(2,int(num2/2)):\n",
    "    if isPrime(x) == True:\n",
    "        Sum += x\n",
    "if int(num2) <= 100 and Sum > int(num2):\n",
    "    for y in range(int(num2/2),2,-1):\n",
    "        if isPrime(y):\n",
    "            Sum -= y\n",
    "        if Sum <= int(num2) and isPrime(Sum):\n",
    "            break\n",
    "else:\n",
    "    for y in range(2,int(num2/2)):\n",
    "        if isPrime(y):\n",
    "            Sum -= y\n",
    "        if Sum <= int(num2) and isPrime(Sum):\n",
    "            break\n",
    "print(Sum)"
   ]
  },
  {
   "cell_type": "markdown",
   "metadata": {},
   "source": [
    "# Question03\n"
   ]
  },
  {
   "cell_type": "code",
   "execution_count": 3,
   "metadata": {},
   "outputs": [
    {
     "name": "stdout",
     "output_type": "stream",
     "text": [
      "Enter a number of elements:\n",
      "15\n",
      "23\n",
      "37\n",
      "53\n",
      "73\n",
      "223\n",
      "283\n",
      "307\n",
      "313\n",
      "317\n",
      "337\n",
      "347\n",
      "353\n",
      "367\n",
      "373\n",
      "383\n",
      "Sum: 3789\n"
     ]
    }
   ],
   "source": [
    "ct = int(input(\"Enter a number of elements:\\n\"))\n",
    "Sum=0\n",
    "count=0\n",
    "check = True\n",
    "pp=20\n",
    "\n",
    "def chRemove(n,i):\n",
    "    return n[i:]\n",
    "\n",
    "while True:\n",
    "    pp += 1\n",
    "    check = True\n",
    "    if isPrime(pp) == False:\n",
    "        continue\n",
    "    elif isPrime(pp):\n",
    "        rev = str(pp)[::-1]\n",
    "        for x in range(0,len(str(pp))):                 # loop for one element like '23'\n",
    "            if isPrime(int(chRemove(str(pp),x))) == False:\n",
    "                check = False\n",
    "                break\n",
    "        for y in range(0,len(str(rev))):                # loop for reversed element '32' for '23'\n",
    "            if isPrime(int(chRemove(str(rev),x))) == False:\n",
    "                check = False\n",
    "                break\n",
    "        if check == True:                               # adds to sum if truncatable...\n",
    "            Sum += int(pp)\n",
    "            count += 1\n",
    "            print(pp)\n",
    "    if count == ct:\n",
    "        break\n",
    "print(\"Sum: \" + str(Sum))"
   ]
  },
  {
   "cell_type": "markdown",
   "metadata": {},
   "source": [
    "# Question04"
   ]
  },
  {
   "cell_type": "code",
   "execution_count": 4,
   "metadata": {},
   "outputs": [
    {
     "name": "stdout",
     "output_type": "stream",
     "text": [
      "Enter a range to find the numbers: \n",
      "10000\n",
      "249\n"
     ]
    }
   ],
   "source": [
    "def isPalindrome(pal):\n",
    "    size=len(str(pal))\n",
    "    for p in range(0,int(size/2)):\n",
    "        if pal[p] != pal[size-1-p]:\n",
    "            return False\n",
    "    return True\n",
    "\n",
    "counter=0\n",
    "check = False\n",
    "count=0\n",
    "number4 = int(input(\"Enter a range to find the numbers: \\n\"))\n",
    "for z in range(11,number4):\n",
    "    check=False\n",
    "    num4 = str(z)\n",
    "    rev = num4[::-1]\n",
    "    Sum4 = int(num4) + int(rev)\n",
    "    if isPalindrome(str(Sum4)) == False:\n",
    "        counter=1\n",
    "        while True:\n",
    "            num4 = str(Sum4)\n",
    "            rev = num4[::-1]\n",
    "            Sum4 = int(num4) + int(rev)\n",
    "            counter+=1\n",
    "            if isPalindrome(str(Sum4)):\n",
    "                break\n",
    "            if counter == 50:\n",
    "                check = True\n",
    "                break\n",
    "    if check == True:\n",
    "        count += 1\n",
    "print(count)"
   ]
  },
  {
   "cell_type": "markdown",
   "metadata": {},
   "source": [
    "# Question05"
   ]
  },
  {
   "cell_type": "code",
   "execution_count": 5,
   "metadata": {},
   "outputs": [
    {
     "name": "stdout",
     "output_type": "stream",
     "text": [
      "Enter a size: \n",
      "5\n",
      "Enter 5 elements:\n",
      "\n",
      "4\n",
      "6\n",
      "8\n",
      "7\n",
      "9\n",
      "Minimum Number is: 4\n"
     ]
    }
   ],
   "source": [
    "class CircularQueue:\n",
    "    def __init__(self,size):\n",
    "        self.Arr = list()\n",
    "        self.size = size\n",
    "        self.front = 0\n",
    "        self.rear = 0\n",
    "        self.noElements = 0\n",
    "    \n",
    "    def enQueue(self,val):\n",
    "        if self.isFull() == False:\n",
    "            self.Arr.append(val)\n",
    "            self.rear = (self.rear+1)%self.size\n",
    "            self.noElements+=1\n",
    "            return True\n",
    "        return False\n",
    "    \n",
    "    def deQueue(self):\n",
    "        if self.isEmpty() == False:\n",
    "            temp = self.Arr[self.front]\n",
    "            self.front = (self.front+1)%self.size\n",
    "            self.noElements-=1\n",
    "            return temp\n",
    "        return False\n",
    "    \n",
    "    def getFrontValue(self):\n",
    "        if self.isEmpty() == False:\n",
    "            return self.Arr[self.front]\n",
    "        return False\n",
    "    \n",
    "    def isFull(self):\n",
    "        return self.noElements == (self.size)\n",
    "    \n",
    "    def isEmpty(self):\n",
    "        return self.noElements == 0 \n",
    "\n",
    "    \n",
    "# main\n",
    "s = input(\"Enter a size: \\n\")\n",
    "q = CircularQueue(int(s))\n",
    "\n",
    "print(\"Enter \" + str(s) + \" elements:\\n\")\n",
    "for i in range(int(s)):\n",
    "    q.enQueue(input())\n",
    "\n",
    "min = q.deQueue()\n",
    "for x in range(int(s)-1):\n",
    "    if min > q.getFrontValue():\n",
    "        min = q.deQueue()\n",
    "    else: \n",
    "        q.deQueue()\n",
    "print(\"Minimum Number is: \" + str(min))"
   ]
  },
  {
   "cell_type": "markdown",
   "metadata": {},
   "source": [
    "# Question06"
   ]
  },
  {
   "cell_type": "code",
   "execution_count": 1,
   "metadata": {},
   "outputs": [
    {
     "name": "stdout",
     "output_type": "stream",
     "text": [
      "Enter size of the stack:\n",
      "5\n",
      "Enter 5 Elements:\n",
      "\n",
      "15\n",
      "33\n",
      "45\n",
      "77\n",
      "65\n",
      "Popped value: 65\n"
     ]
    }
   ],
   "source": [
    "import queue as qq\n",
    "class Stack:\n",
    "    def __init__(self,size):\n",
    "        self.size = size\n",
    "        self.Q1 = qq.Queue(size)\n",
    "        self.Q2 = qq.Queue(size)\n",
    "    \n",
    "    def push_back(self,val):\n",
    "        if self.isFull() == False:\n",
    "            self.Q1.put(val)\n",
    "    \n",
    "    def pop_back(self):\n",
    "        temp=0\n",
    "        if self.isEmpty() == False:\n",
    "            for x in range(0,self.size-1):\n",
    "                self.Q2.put(self.Q1.get())\n",
    "            temp = self.Q1.get()\n",
    "            self.size -= 1\n",
    "            for y in range(0,self.size-1):\n",
    "                self.Q1.put(self.Q2.get())\n",
    "            return temp\n",
    "        return False\n",
    "    \n",
    "    def isFull(self):\n",
    "        return self.Q1.full()\n",
    "    \n",
    "    def isEmpty(self):\n",
    "        return self.Q1.empty()\n",
    "\n",
    "s = int(input(\"Enter size of the stack:\\n\"))\n",
    "st = Stack(int(s))\n",
    "print(\"Enter \" + str(s) + \" Elements:\\n\")\n",
    "for l in range(int(s)):\n",
    "    st.push_back(input())\n",
    "print(\"Popped value: \" + str(st.pop_back()))"
   ]
  },
  {
   "cell_type": "code",
   "execution_count": null,
   "metadata": {},
   "outputs": [],
   "source": []
  }
 ],
 "metadata": {
  "kernelspec": {
   "display_name": "Python 3",
   "language": "python",
   "name": "python3"
  },
  "language_info": {
   "codemirror_mode": {
    "name": "ipython",
    "version": 3
   },
   "file_extension": ".py",
   "mimetype": "text/x-python",
   "name": "python",
   "nbconvert_exporter": "python",
   "pygments_lexer": "ipython3",
   "version": "3.8.3"
  }
 },
 "nbformat": 4,
 "nbformat_minor": 4
}
